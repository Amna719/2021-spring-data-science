{
 "cells": [
  {
   "cell_type": "markdown",
   "metadata": {},
   "source": [
    "# How to handle data in python using Pandas. \n",
    "Pandas is like Excel, but does not suck.  Anything you need to do with data, you can do with pandas.  Im going to focus on the 20% of the things that do 80% of the work. "
   ]
  },
  {
   "cell_type": "code",
   "execution_count": null,
   "metadata": {},
   "outputs": [],
   "source": [
    "import pandas as pd\n",
    "import numpy as np\n",
    "\n",
    "# Ignore these next two lines\n",
    "from IPython.display import Image\n",
    "pd.set_option('display.max_rows', 5)"
   ]
  },
  {
   "cell_type": "markdown",
   "metadata": {},
   "source": [
    "# Importing data\n",
    "* If data is seperated by `;`, change to `sep=';'`\n",
    "* Shift+Tab is your best friend"
   ]
  },
  {
   "cell_type": "code",
   "execution_count": null,
   "metadata": {},
   "outputs": [],
   "source": [
    "df = pd.read_csv('data/listings.csv', sep=',')\n",
    "df.head()"
   ]
  },
  {
   "cell_type": "markdown",
   "metadata": {},
   "source": [
    "# Basic Syntax\n",
    "* Select one column\n",
    "* Select multiple columns\n",
    "   * Must use a list"
   ]
  },
  {
   "cell_type": "code",
   "execution_count": null,
   "metadata": {},
   "outputs": [],
   "source": [
    "# SELECT ONE COLUMN\n",
    "df['id']"
   ]
  },
  {
   "cell_type": "code",
   "execution_count": null,
   "metadata": {},
   "outputs": [],
   "source": [
    "# SELECT MULTIPLE COLUMNS\n",
    "df[ ['id', 'name'] ]"
   ]
  },
  {
   "cell_type": "markdown",
   "metadata": {},
   "source": [
    "### Selecting rows."
   ]
  },
  {
   "cell_type": "code",
   "execution_count": null,
   "metadata": {},
   "outputs": [],
   "source": [
    "df.iloc[0]"
   ]
  },
  {
   "cell_type": "code",
   "execution_count": null,
   "metadata": {},
   "outputs": [],
   "source": [
    "rows = [0,10,100]\n",
    "df.loc[rows]"
   ]
  },
  {
   "cell_type": "markdown",
   "metadata": {},
   "source": [
    "### Select row and column"
   ]
  },
  {
   "cell_type": "code",
   "execution_count": null,
   "metadata": {},
   "outputs": [],
   "source": [
    "df.at[ 0, 'name' ]"
   ]
  },
  {
   "cell_type": "markdown",
   "metadata": {},
   "source": [
    "# Basic Math\n",
    "Lets say we wanted to up the price 100x"
   ]
  },
  {
   "cell_type": "code",
   "execution_count": null,
   "metadata": {},
   "outputs": [],
   "source": [
    "df['new_price'] = df['price'] * 100"
   ]
  },
  {
   "cell_type": "code",
   "execution_count": null,
   "metadata": {},
   "outputs": [],
   "source": [
    "df.price.sum()"
   ]
  },
  {
   "cell_type": "code",
   "execution_count": null,
   "metadata": {},
   "outputs": [],
   "source": [
    "df.price.mean()"
   ]
  },
  {
   "cell_type": "markdown",
   "metadata": {},
   "source": [
    "Let's find the minimum booking amout by multiplying price by minimum_nights\n",
    "* note, you can also access columns by using a dot `.`"
   ]
  },
  {
   "cell_type": "code",
   "execution_count": null,
   "metadata": {},
   "outputs": [],
   "source": [
    "df['min_booking_amount'] = df.price * df.minimum_nights\n",
    "df.head()"
   ]
  },
  {
   "cell_type": "markdown",
   "metadata": {},
   "source": [
    "# Selecting / Filtering data"
   ]
  },
  {
   "cell_type": "code",
   "execution_count": null,
   "metadata": {},
   "outputs": [],
   "source": [
    "# Create our select condition.\n",
    "select_condition = df['neighbourhood_group'] == 'Manhattan'\n",
    "\n",
    "# Print the dataframe that meets our condition. \n",
    "df[ select_condition ]"
   ]
  },
  {
   "cell_type": "code",
   "execution_count": null,
   "metadata": {},
   "outputs": [],
   "source": [
    "# Select Brooklyn\n",
    "condition_1 = df['neighbourhood_group'] == 'Brooklyn'\n",
    "\n",
    "# Select Prices that are higher than 500\n",
    "condition_2 = df['price'] > 500\n",
    "\n",
    "# Select all data that meets both requirments\n",
    "df[condition_1 & condition_2]"
   ]
  },
  {
   "cell_type": "markdown",
   "metadata": {},
   "source": [
    "## Using 'or' statments\n",
    "* What if we want to find all listings in Midtown or DUMBO\n",
    "* The 'or' in python is the pipe thing `|`"
   ]
  },
  {
   "cell_type": "code",
   "execution_count": null,
   "metadata": {},
   "outputs": [],
   "source": [
    "condition_1 = df.neighbourhood == 'Midtown'\n",
    "\n",
    "condition_2 = df.neighbourhood == 'DUMBO'\n",
    "\n",
    "# Select all data that meets condition 1 or condition 2\n",
    "df[ condition_1 | condition_2]"
   ]
  },
  {
   "cell_type": "markdown",
   "metadata": {},
   "source": [
    "## Using `.isin`. A very handy selector tool."
   ]
  },
  {
   "cell_type": "code",
   "execution_count": null,
   "metadata": {},
   "outputs": [],
   "source": [
    "# Here is a list of ids we want to select\n",
    "list_of_host_ids = [19303369, 29871437, 63953718, 32084117]\n",
    "\n",
    "# Make our select condition \n",
    "condition = df.host_id.isin(list_of_host_ids)\n",
    "\n",
    "# Make the selection\n",
    "df[condition]"
   ]
  },
  {
   "cell_type": "code",
   "execution_count": null,
   "metadata": {},
   "outputs": [],
   "source": [
    "# Here is a list of ids we want to select\n",
    "list_of_host_ids = [19303369, 29871437, 63953718, 32084117]\n",
    "\n",
    "# Make our select condition \n",
    "condition = df.host_id.isin(list_of_host_ids)\n",
    "\n",
    "### USING THE `~` WILL SELECT THE INVERSE OF THE CONDITION\n",
    "df[~condition]"
   ]
  },
  {
   "cell_type": "code",
   "execution_count": null,
   "metadata": {},
   "outputs": [],
   "source": [
    "list_of_neighbourhoods = ['DUMBO', 'Midtown']\n",
    "\n",
    "condition = df.neighbourhood.isin(list_of_neighbourhoods)\n",
    "\n",
    "df[condition]"
   ]
  },
  {
   "cell_type": "markdown",
   "metadata": {},
   "source": [
    "# Assigning values to filtered columns using `np.where()`\n",
    "* np.where is a handy tool that takes in a condition statement, followed by what value to set when condition is true, and then what value to set when condition is false.  \n",
    "* `np.where(condition, when_true, when_false)` "
   ]
  },
  {
   "cell_type": "markdown",
   "metadata": {},
   "source": [
    "### We want a new column that whenever a listing is in Williamsburg, set it equal to 1, else, 0. "
   ]
  },
  {
   "cell_type": "code",
   "execution_count": null,
   "metadata": {},
   "outputs": [],
   "source": [
    "c1 = df['neighbourhood'] == 'Williamsburg'\n",
    "\n",
    "df['is_in_williamsburg'] = np.where(c1, 1, 0)\n",
    "\n",
    "df.head()"
   ]
  },
  {
   "cell_type": "code",
   "execution_count": null,
   "metadata": {},
   "outputs": [],
   "source": [
    "# You can do it with multiple conditions as well...\n",
    "\n",
    "# First select condition.\n",
    "c1 = df['neighbourhood'] == 'Williamsburg'\n",
    "\n",
    "# Second select condition.\n",
    "c2 = df['room_type'] == 'Private room'\n",
    "\n",
    "# Set equal to one when both conditions are true, and zero when not true.\n",
    "df['private_room_in_williamsburg'] =  np.where( c1 & c2, 1, 0 )\n",
    "\n",
    "# Sanity check to view if our assignment worked correctly.\n",
    "df[df['private_room_in_williamsburg'] == 1]"
   ]
  },
  {
   "cell_type": "markdown",
   "metadata": {},
   "source": [
    "# Applying a functions to a column"
   ]
  },
  {
   "cell_type": "code",
   "execution_count": null,
   "metadata": {},
   "outputs": [],
   "source": [
    "def my_function(x):\n",
    "    if 'Furnished' in str(x):\n",
    "        return 1\n",
    "    else:\n",
    "        return 0\n",
    "\n",
    "df['is_furnished'] = df.name.apply(my_function)\n",
    "\n",
    "df.head()"
   ]
  },
  {
   "cell_type": "markdown",
   "metadata": {},
   "source": [
    "# Grouping"
   ]
  },
  {
   "cell_type": "code",
   "execution_count": null,
   "metadata": {},
   "outputs": [],
   "source": [
    "Image('https://i.stack.imgur.com/sgCn1.jpg')"
   ]
  },
  {
   "cell_type": "markdown",
   "metadata": {},
   "source": [
    "Doing a groupby does nothing unless you apply a function to a column of the groupby object."
   ]
  },
  {
   "cell_type": "code",
   "execution_count": null,
   "metadata": {},
   "outputs": [],
   "source": [
    "df.groupby('neighbourhood_group')"
   ]
  },
  {
   "cell_type": "markdown",
   "metadata": {},
   "source": [
    "## After the groupby, select a column then select the function you want to perform on said column."
   ]
  },
  {
   "cell_type": "code",
   "execution_count": null,
   "metadata": {},
   "outputs": [],
   "source": [
    "df.groupby('neighbourhood_group')['price'].mean()"
   ]
  },
  {
   "cell_type": "markdown",
   "metadata": {},
   "source": [
    "# You can use `.agg` to do multiple functions on said column."
   ]
  },
  {
   "cell_type": "code",
   "execution_count": null,
   "metadata": {},
   "outputs": [],
   "source": [
    "df.groupby('neighbourhood_group')['price'].agg(['count', 'min', 'max', 'mean', 'median', 'std', 'sum'])"
   ]
  },
  {
   "cell_type": "markdown",
   "metadata": {},
   "source": [
    "# Double groupby"
   ]
  },
  {
   "cell_type": "code",
   "execution_count": null,
   "metadata": {},
   "outputs": [],
   "source": [
    "groupby_cols = ['neighbourhood_group', 'neighbourhood']\n",
    "df.groupby(groupby_cols)['price'].mean()"
   ]
  },
  {
   "cell_type": "markdown",
   "metadata": {},
   "source": [
    "# Making a DataFrame out of a groupby \n",
    "* This is somewhat nuanced, but something I find people struggle on and is very handy to know how to do."
   ]
  },
  {
   "cell_type": "code",
   "execution_count": null,
   "metadata": {},
   "outputs": [],
   "source": [
    "# Do your group by\n",
    "gb = df.groupby('neighbourhood_group')['price'].mean()\n",
    "\n",
    "# Convert it to a DataFrame\n",
    "new_df = pd.DataFrame(gb)\n",
    "\n",
    "# Reset the index\n",
    "new_df = new_df.reset_index()\n",
    "\n",
    "# Check it out\n",
    "new_df"
   ]
  },
  {
   "cell_type": "markdown",
   "metadata": {},
   "source": [
    "# Very helpful tools\n",
    "* `df.describe()`\n",
    "* `df.info`\n",
    "* `df.shape`\n",
    "* `df['column'].value_counts()`\n",
    "* `df['column'].apply(function)`\n",
    "* `df.dropna(subset=[columns])`"
   ]
  },
  {
   "cell_type": "code",
   "execution_count": null,
   "metadata": {},
   "outputs": [],
   "source": [
    "df.describe()"
   ]
  },
  {
   "cell_type": "code",
   "execution_count": null,
   "metadata": {},
   "outputs": [],
   "source": [
    "df.info()"
   ]
  },
  {
   "cell_type": "markdown",
   "metadata": {},
   "source": [
    "# How to find percentages of the whole using `value_counts`"
   ]
  },
  {
   "cell_type": "code",
   "execution_count": null,
   "metadata": {},
   "outputs": [],
   "source": [
    "df.neighbourhood_group.value_counts()"
   ]
  },
  {
   "cell_type": "code",
   "execution_count": null,
   "metadata": {},
   "outputs": [],
   "source": [
    "dfp = df.neighbourhood_group.value_counts() / df.neighbourhood_group.value_counts().sum()\n",
    "dfp"
   ]
  },
  {
   "cell_type": "markdown",
   "metadata": {},
   "source": [
    "# Joins"
   ]
  },
  {
   "cell_type": "code",
   "execution_count": null,
   "metadata": {},
   "outputs": [],
   "source": [
    "Image('https://i.stack.imgur.com/UI25E.jpg')"
   ]
  },
  {
   "cell_type": "code",
   "execution_count": null,
   "metadata": {},
   "outputs": [],
   "source": [
    "dfprices = pd.read_csv('data/prices.csv')\n",
    "dfprices"
   ]
  },
  {
   "cell_type": "code",
   "execution_count": null,
   "metadata": {},
   "outputs": [],
   "source": [
    "dflistings = pd.read_csv('data/n_listings.csv')\n",
    "dflistings"
   ]
  },
  {
   "cell_type": "code",
   "execution_count": null,
   "metadata": {},
   "outputs": [],
   "source": [
    "# Merge defaults to an inner-join\n",
    "pd.merge(dfprices, dflistings, on='neighbourhood_group')"
   ]
  },
  {
   "cell_type": "code",
   "execution_count": null,
   "metadata": {},
   "outputs": [],
   "source": [
    "# Doing a left join keeps all values in the left table\n",
    "dfjoined = pd.merge(dfprices, dflistings, on='neighbourhood_group', how='left')\n",
    "dfjoined"
   ]
  },
  {
   "cell_type": "markdown",
   "metadata": {},
   "source": [
    "# Exporting data\n",
    "* Almost always use `index=False` when saving your csv"
   ]
  },
  {
   "cell_type": "code",
   "execution_count": null,
   "metadata": {},
   "outputs": [],
   "source": [
    "# This is the name of your new file\n",
    "save_as = 'my-data-file.csv'\n",
    "\n",
    "# This is the method you use, DONT FORGET INDEX=FALSE!\n",
    "df.to_csv(save_as, index=False)"
   ]
  },
  {
   "cell_type": "code",
   "execution_count": null,
   "metadata": {},
   "outputs": [],
   "source": [
    "# Another fun way to get your data out.\n",
    "df.to_clipboard(index=False)"
   ]
  },
  {
   "cell_type": "markdown",
   "metadata": {},
   "source": [
    "# Now open up the Exercise notebook and begin your journey into Pandas."
   ]
  }
 ],
 "metadata": {
  "kernelspec": {
   "display_name": "Python 3",
   "language": "python",
   "name": "python3"
  },
  "language_info": {
   "codemirror_mode": {
    "name": "ipython",
    "version": 3
   },
   "file_extension": ".py",
   "mimetype": "text/x-python",
   "name": "python",
   "nbconvert_exporter": "python",
   "pygments_lexer": "ipython3",
   "version": "3.8.5"
  }
 },
 "nbformat": 4,
 "nbformat_minor": 2
}
